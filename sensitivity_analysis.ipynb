{
 "cells": [
  {
   "cell_type": "code",
   "execution_count": null,
   "id": "1f6a6faf-b552-4b29-b97a-abec94904e32",
   "metadata": {},
   "outputs": [],
   "source": [
    "import xarray as xr\n",
    "import numpy  as np\n",
    "%matplotlib inline\n",
    "import matplotlib.pyplot as plt\n",
    "from matplotlib.style import use as usestyle\n",
    "from matplotlib import colors\n",
    "import matplotlib as mpl\n",
    "import cartopy.crs as ccrs\n",
    "from cartopy import feature as cfeature\n",
    "from matplotlib import ticker as mticker\n",
    "from glob import glob\n",
    "from datetime import datetime, timedelta\n",
    "import os"
   ]
  },
  {
   "cell_type": "code",
   "execution_count": null,
   "id": "137ac596-5e89-49ce-a47b-e2307af3a85a",
   "metadata": {},
   "outputs": [],
   "source": [
    "usestyle(\"paperplots.mplstyle\")\n",
    "from matplotlib import rcParams\n",
    "rcParams[\"figure.titlesize\"] = 20\n",
    "rcParams[\"axes.titlesize\"] = 16\n",
    "rcParams[\"axes.labelsize\"] = 16\n",
    "rcParams[\"xtick.labelsize\"] = 13\n",
    "rcParams[\"ytick.labelsize\"] = 13\n",
    "rcParams[\"axes.linewidth\"] = 0.4"
   ]
  },
  {
   "cell_type": "code",
   "execution_count": null,
   "id": "79c34d94-a2ed-4240-9053-6e4e94f203bb",
   "metadata": {},
   "outputs": [],
   "source": [
    "class MidpointNormalize(colors.Normalize):\n",
    "    def __init__(self, vmin=None, vmax=None, vcenter=None, clip=False):\n",
    "        self.vcenter = vcenter\n",
    "        super().__init__(vmin, vmax, clip)\n",
    "\n",
    "    def __call__(self, value, clip=None):\n",
    "        # I'm ignoring masked values and all kinds of edge cases to make a\n",
    "        # simple example...\n",
    "        # Note also that we must extrapolate beyond vmin/vmax\n",
    "        x, y = [self.vmin, self.vcenter, self.vmax], [0, 0.5, 1.]\n",
    "        return np.ma.masked_array(np.interp(value, x, y,\n",
    "                                            left=-np.inf, right=np.inf))\n",
    "\n",
    "    def inverse(self, value):\n",
    "        y, x = [self.vmin, self.vcenter, self.vmax], [0, 0.5, 1]\n",
    "        return np.interp(value, x, y, left=-np.inf, right=np.inf)\n",
    "\n",
    "def truncate_colormap(cmap, minval=0.0, maxval=1.0, n=100):\n",
    "    new_cmap = colors.LinearSegmentedColormap.from_list(\n",
    "        'trunc({n},{a:.2f},{b:.2f})'.format(n=cmap.name, a=minval, b=maxval),\n",
    "        cmap(np.linspace(minval, maxval, n)))\n",
    "    return new_cmap"
   ]
  },
  {
   "cell_type": "code",
   "execution_count": null,
   "id": "b6d37f83-23f4-4d6b-bb7f-88b5c8971edf",
   "metadata": {},
   "outputs": [],
   "source": [
    "def add_cartofeatures_snowbox(geoax):\n",
    "    geoax.set_extent((controlgrid[\"x\"][200], controlgrid[\"x\"][750], controlgrid[\"y\"][150], controlgrid[\"y\"][650]), crs = ramscrs)\n",
    "    geoax.add_feature(cfeature.NaturalEarthFeature('physical', 'coastline', '50m', edgecolor = 'darkgrey', facecolor = \"none\", linewidth = 0.4, zorder = 3))\n",
    "    geoax.add_feature(cfeature.NaturalEarthFeature(category=\"cultural\", name = \"admin_1_states_provinces_lakes\", linewidth = 0.4, facecolor = \"none\", scale = \"50m\", edgecolor = \"black\", zorder = 3))\n",
    "    return ax"
   ]
  },
  {
   "cell_type": "markdown",
   "id": "24971dd6-401d-49d6-95e7-1cbe1238d936",
   "metadata": {},
   "source": [
    "## Load Snowfall Data from CONTROL, VARTEMP, MORESNOW"
   ]
  },
  {
   "cell_type": "code",
   "execution_count": null,
   "id": "363861e7-c0f5-4d54-85fa-f32fd32a4754",
   "metadata": {},
   "outputs": [],
   "source": [
    "#Note that there we're using the raw RAMS output rather than post-processed files. This is because we're only examining a scalar surface field (snowfall) which is unchanged in the post-processing routine.\n",
    "controlpath = input(\"Enter the directory containing the RAMS output files for the CONTROL simulation: \").rstrip(\"/ \")\n",
    "if not os.path.exists(controlpath):\n",
    "    raise Exception(\"CONTROL analysis file directory not found!\")\n",
    "control_snow_old = xr.open_dataset(f\"{controlpath}/a-A-2010-01-02-060000-g1.h5\")\n",
    "control_snow_new = xr.open_dataset(f\"{controlpath}/a-A-2010-01-03-060000-g1.h5\")\n",
    "vartemppath = input(\"Enter the directory containing the RAMS output files for the VARTEMP simulation: \").rstrip(\"/ \")\n",
    "if not os.path.exists(vartemppath):\n",
    "    raise Exception(\"VARTEMP analysis file directory not found!\")\n",
    "vartemp_snow_old = xr.open_dataset(f\"{vartemppath}/a-A-2010-01-02-060000-g1.h5\")\n",
    "vartemp_snow_new = xr.open_dataset(f\"{vartemppath}/a-A-2010-01-03-060000-g1.h5\")\n",
    "moresnowpath = input(\"Enter the directory containing the RAMS output files for the MORESNOW simulation: \").rstrip(\"/ \")\n",
    "if not os.path.exists(moresnowpath):\n",
    "    raise Exception(\"MORESNOW analysis file directory not found!\")\n",
    "moresnow_snow_old = xr.open_dataset(f\"{moresnowpath}/a-A-2010-01-02-060000-g1.h5\")\n",
    "moresnow_snow_new = xr.open_dataset(f\"{moresnowpath}/a-A-2010-01-03-060000-g1.h5\")"
   ]
  },
  {
   "cell_type": "code",
   "execution_count": null,
   "id": "b36b433e-3cd4-42a9-85c6-e455d183c097",
   "metadata": {},
   "outputs": [],
   "source": [
    "snowdiff_control_vals = control_snow_new[\"ACCPS\"]+control_snow_new[\"ACCPA\"]-control_snow_old[\"ACCPS\"]-control_snow_old[\"ACCPA\"]\n",
    "snowdiff_vartemp_vals = vartemp_snow_new[\"ACCPS\"]+vartemp_snow_new[\"ACCPA\"]-vartemp_snow_old[\"ACCPS\"]-vartemp_snow_old[\"ACCPA\"]\n",
    "snowdiff_moresnow_vals = moresnow_snow_new[\"ACCPS\"]+moresnow_snow_new[\"ACCPA\"]-moresnow_snow_old[\"ACCPS\"]-moresnow_snow_old[\"ACCPA\"]\n",
    "snowdiff_control_vals = snowdiff_control_vals[1:-1,1:-1].values\n",
    "snowdiff_vartemp_vals = snowdiff_vartemp_vals[1:-1,1:-1].values\n",
    "snowdiff_moresnow_vals = snowdiff_moresnow_vals[1:-1,1:-1].values\n",
    "#This [1:-1,1:-1] business is because the raw RAMS output includes lateral boundary points which are not actually used in computation"
   ]
  },
  {
   "cell_type": "code",
   "execution_count": null,
   "id": "f5375b94-9f85-41ea-9d61-9f30bc4d0f0f",
   "metadata": {},
   "outputs": [],
   "source": [
    "gridpath = input(\"Enter the directory containing the gridcconsts.nc file for the CONTROL simulation. If you don't know what this is, you should run PaperPlots.ipynb before this notebook. \").rstrip(\"/ \")\n",
    "if not os.path.exists(f\"{gridpath}/gridconsts.nc\"):\n",
    "    raise Exception(\"gridconsts.nc file not found within specified directory!\")\n",
    "controlgrid = xr.open_dataset(\"/moonbow/ascheb/les/2010/hires_control/gridconsts.nc\")"
   ]
  },
  {
   "cell_type": "code",
   "execution_count": null,
   "id": "e08de56b-5470-4a37-bd69-7f6f8698e0ce",
   "metadata": {},
   "outputs": [],
   "source": [
    "snowdiff_control = xr.DataArray(snowdiff_control_vals, coords = {\"y\": controlgrid[\"y\"], \"x\": controlgrid[\"x\"]}, dims = [\"y\", \"x\"])\n",
    "snowdiff_vartemp = xr.DataArray(snowdiff_vartemp_vals, coords = {\"y\": controlgrid[\"y\"], \"x\": controlgrid[\"x\"]}, dims = [\"y\", \"x\"])\n",
    "snowdiff_moresnow = xr.DataArray(snowdiff_moresnow_vals, coords = {\"y\": controlgrid[\"y\"], \"x\": controlgrid[\"x\"]}, dims = [\"y\", \"x\"])"
   ]
  },
  {
   "cell_type": "markdown",
   "id": "d7e0e2d5-2e95-4885-bfad-015e702da8e3",
   "metadata": {},
   "source": [
    "## Make Boxes and Compare Snowfall"
   ]
  },
  {
   "cell_type": "code",
   "execution_count": null,
   "id": "7eb1e7af-049a-4079-ad10-6e38ccdb3037",
   "metadata": {},
   "outputs": [],
   "source": [
    "ix0 = 400; iy0 = 525 #Northwest side of the \"downwind of lake erie\" box, at the center of the downwind shore\n",
    "x0 = controlgrid[\"x\"].isel(x = ix0); y0 = controlgrid[\"y\"].isel(y = iy0); dxy = np.diff(controlgrid[\"x\"])[0]\n",
    "width = 400000; length = 305000 #m, dimensions of the box\n",
    "tarray = np.arange(0, length+1, dxy); narray = np.arange(-width/2, width/2+1, dxy) #Coordinates of the box in tangent (long-axis) and normal (short-axis) directions. Normal is negative and positive (northeast and southwest), while tangent is only positive (to the right)\n",
    "tmesh, nmesh = np.meshgrid(tarray, narray)\n",
    "angle = np.pi/180*(-60) #Angle of the long axis of the box, with respect to the horizontal\n",
    "xbox = x0.values+np.cos(angle)*tmesh-np.sin(angle)*nmesh\n",
    "ybox = y0.values+np.sin(angle)*tmesh+np.cos(angle)*nmesh\n",
    "snowbox = xr.DataArray(coords = {\"y\": ((\"normal\", \"tangent\"), ybox), \"x\": ((\"normal\", \"tangent\"), xbox), \"normal\": narray, \"tangent\": tarray}, dims = [\"normal\", \"tangent\"])\n",
    "\n",
    "downwindsnow_control = snowdiff_control.interp(x = snowbox[\"x\"], y = snowbox[\"y\"])\n",
    "downwindsnow_vartemp = snowdiff_vartemp.interp(x = snowbox[\"x\"], y = snowbox[\"y\"])\n",
    "downwindsnow_moresnow = snowdiff_moresnow.interp(x = snowbox[\"x\"], y = snowbox[\"y\"])\n",
    "\n",
    "print(f\"Average liquid equivalent of snowfall (mm) downwind of Lake Erie (Region A) in the CONTROl simulation \\n{downwindsnow_control.mean():.2f} \\nAverage liquid equivalent of snowfall downwind of Lake Erie (Region A) in the VARTEMP simulation \\n{downwindsnow_vartemp.mean():.2f} \\nAverage liquid equivalent of snowfall downwind of Lake Erie (Region A) in the MORESNOW simulation \\n{downwindsnow_moresnow.mean():.2f} \\nRelative change in average snowfall downwind of Lake Erie (Region A) between CONTROL and VARTEMP simulations \\n{100*(downwindsnow_control.mean()-downwindsnow_vartemp.mean())/downwindsnow_control.mean():.2f}% \\nRelative change in average snowfall downwind of Lake Erie (Region A) between CONTROL and MORESNOW simulations \\n{100*(downwindsnow_control.mean()-downwindsnow_moresnow.mean())/downwindsnow_control.mean():.2f}% \\nAverage CONTROL simulation snowfall downwind of Lake Erie (Region A) is {100*downwindsnow_control.mean()/downwindsnow_vartemp.mean():.2f}% of average VARTEMP simulation snowfall \\nAverage CONTROL simulation snowfall downwind of Lake Erie (Region A) is {100*downwindsnow_control.mean()/downwindsnow_moresnow.mean():.2f}% of average MORESNOW simulation snowfall\")\n",
    "print(\"\\n\\n\")\n",
    "\n",
    "\n",
    "patchpoints = np.zeros((4, 2))\n",
    "patchpoints[:,0] = [downwindsnow_control[\"x\"].values[0,0], downwindsnow_control[\"x\"].values[0, -1], downwindsnow_control[\"x\"].values[-1, -1], downwindsnow_control[\"x\"].values[-1, 0]]\n",
    "patchpoints[:,1] = [downwindsnow_control[\"y\"].values[0,0], downwindsnow_control[\"y\"].values[0, -1], downwindsnow_control[\"y\"].values[-1, -1], downwindsnow_control[\"y\"].values[-1, 0]]\n",
    "\n",
    "print(f\"Average liquid equivalent of snowfall (mm) in the main band (Region B) in the CONTROl simulation \\n{downwindsnow_control[210:250, 0:100].mean():.2f} \\nAverage liquid equivalent of snowfall in the main band (Region B) in the VARTEMP simulation \\n{downwindsnow_vartemp[210:250, 0:100].mean():.2f} \\nAverage liquid equivalent of snowfall in the main band (Region B) in the MORESNOW simulation \\n{downwindsnow_moresnow[210:250, 0:100].mean():.2f} \\nRelative change in average snowfall in the main band (Region B) between CONTROL and VARTEMP simulations \\n{100*(downwindsnow_control[210:250, 0:100].mean()-downwindsnow_vartemp[210:250, 0:100].mean())/downwindsnow_control[210:250, 0:100].mean():.2f}% \\nRelative change in average snowfall in the main band (Region B) between CONTROL and MORESNOW simulations \\n{100*(downwindsnow_control[210:250, 0:100].mean()-downwindsnow_moresnow[210:250, 0:100].mean())/downwindsnow_control[210:250, 0:100].mean():.2f}% \\nAverage CONTROL simulation snowfall in the main band (Region B) is {100*downwindsnow_control[210:250, 0:100].mean()/downwindsnow_vartemp[210:250, 0:100].mean():.2f}% of average VARTEMP simulation snowfall \\nAverage CONTROL simulation snowfall in the main band (Region B) is {100*downwindsnow_control[210:250, 0:100].mean()/downwindsnow_moresnow[210:250, 0:100].mean():.2f}% of average MORESNOW simulation snowfall\")\n",
    "print(\"\\n\\n\")\n",
    "#Change in snowfall in main band\n",
    "#Points 210:250, 0:100 form a rectangle roughly bounding the main snow band over Lake Erie in the CONTROL simulation\n",
    "patchpointssub = np.zeros((4, 2)) #These are the points for box B in the figure below, outlining the main band\n",
    "patchpointssub[:,0] = [downwindsnow_control[\"x\"].values[210,0], downwindsnow_control[\"x\"].values[210, 100], downwindsnow_control[\"x\"].values[250, 100], downwindsnow_control[\"x\"].values[250, 0]]\n",
    "patchpointssub[:,1] = [downwindsnow_control[\"y\"].values[210,0], downwindsnow_control[\"y\"].values[210, 100], downwindsnow_control[\"y\"].values[250, 100], downwindsnow_control[\"y\"].values[250, 0]]\n",
    "# print(downwindsnow_control[210:250, 0:100].mean(), downwindsnow_nolake[210:250, 0:100].mean(), downwindsnow_control[210:250, 0:100].sum()/downwindsnow_nolake[210:250, 0:100].sum())\n",
    "\n",
    "print(f\"Average liquid equivalent of snowfall (mm) downwind of NE Lake Erie (Region D) in the CONTROl simulation \\n{downwindsnow_control[350:400, 0:100].mean():.2f} \\nAverage liquid equivalent of snowfall downwind of NE Lake Erie (Region D) in the VARTEMP simulation \\n{downwindsnow_vartemp[350:400, 0:100].mean():.2f} \\nAverage liquid equivalent of snowfall downwind of NE Lake Erie (Region D) in the MORESNOW simulation \\n{downwindsnow_moresnow[350:400, 0:100].mean():.2f} \\nRelative change in average snowfall downwind of NE Lake Erie (Region D) between CONTROL and VARTEMP simulations \\n{100*(downwindsnow_control[350:400, 0:100].mean()-downwindsnow_vartemp[350:400, 0:100].mean())/downwindsnow_control[350:400, 0:100].mean():.2f}% \\nRelative change in average snowfall downwind of NE Lake Erie (Region D) between CONTROL and MORESNOW simulations \\n{100*(downwindsnow_control[350:400, 0:100].mean()-downwindsnow_moresnow[350:400, 0:100].mean())/downwindsnow_control[350:400, 0:100].mean():.2f}% \\nAverage CONTROL simulation snowfall downwind of NE Lake Erie (Region D) is {100*downwindsnow_control[350:400, 0:100].mean()/downwindsnow_vartemp[350:400, 0:100].mean():.2f}% of average VARTEMP simulation snowfall \\nAverage CONTROL simulation snowfall downwind of NE Lake Erie (Region D) is {100*downwindsnow_control[350:400, 0:100].mean()/downwindsnow_moresnow[350:400, 0:100].mean():.2f}% of average MORESNOW simulation snowfall\") #Change in snowfall in Region D\n",
    "#Points 350:400, 0:100 deliniate Region D, where there's enhanced snowfall downwind of NE Lake Erie in CONTROL and NLH\n",
    "patchpointsne = np.zeros((4,2)) #Points bounding the band in northeast Lake Erie (box D)\n",
    "patchpointsne[:,0] = [downwindsnow_control[\"x\"].values[350,0], downwindsnow_control[\"x\"].values[350, 100], downwindsnow_control[\"x\"].values[400, 100], downwindsnow_control[\"x\"].values[400, 0]]\n",
    "patchpointsne[:,1] = [downwindsnow_control[\"y\"].values[350,0], downwindsnow_control[\"y\"].values[350, 100], downwindsnow_control[\"y\"].values[400, 100], downwindsnow_control[\"y\"].values[400, 0]]\n",
    "\n",
    "\n",
    "patchpoints_between = np.zeros((4, 2)) #Points bounding area downwind of Lake Erie between box B and box D (box C)\n",
    "patchpoints_between[:,0] = [downwindsnow_control[\"x\"].values[250,0], downwindsnow_control[\"x\"].values[250, 100], downwindsnow_control[\"x\"].values[350, 100], downwindsnow_control[\"x\"].values[350, 0]]\n",
    "patchpoints_between[:,1] = [downwindsnow_control[\"y\"].values[250,0], downwindsnow_control[\"y\"].values[250, 100], downwindsnow_control[\"y\"].values[350, 100], downwindsnow_control[\"y\"].values[350, 0]]"
   ]
  },
  {
   "cell_type": "markdown",
   "id": "4dfc2d43-bc1e-40c6-a9de-ea9d7a9faf72",
   "metadata": {
    "jupyter": {
     "source_hidden": true
    }
   },
   "source": [
    "## Plot Comparison of Snowfall Between CONTROL, VARTEMP, and MORESNOW"
   ]
  },
  {
   "cell_type": "code",
   "execution_count": null,
   "id": "a72d8ae3-fdeb-4b45-a325-6023ae48d956",
   "metadata": {},
   "outputs": [],
   "source": [
    "ramscrs = ccrs.Stereographic(central_longitude = -80, central_latitude = 42)\n",
    "fig, (ax11, ax12, ax13) = plt.subplots(1, 3, figsize = (8.1, 3), dpi = 200, layout = \"compressed\", subplot_kw = {\"projection\": ramscrs})\n",
    "startt = datetime(2010, 1, 2, 6, 0, 0); print(startt)\n",
    "endt = datetime(2010, 1, 3, 6, 0, 0); print(endt)\n",
    "modtopocmap = truncate_colormap(mpl.colormaps.get_cmap(\"gist_earth\"), minval = 0.5, maxval = 1, n = 128)\n",
    "axlabelsbot = [\"(a)\", \"(b)\", \"(c)\"]\n",
    "from palettable.lightbartlein.diverging import BrownBlue10_10\n",
    "snwdiffcmap = BrownBlue10_10.get_mpl_colormap()\n",
    "for i, ax in enumerate((ax11, ax12, ax13)):\n",
    "    ax = add_cartofeatures_snowbox(ax)\n",
    "    left, width = 0, 0.1\n",
    "    bottom, height = 0.90, 0.1\n",
    "    right = left + width\n",
    "    top = bottom + height\n",
    "    p = plt.Rectangle((left, bottom), width, height, fill=True, zorder = 3, edgecolor = \"black\", linewidth = 0.2, facecolor = \"white\")\n",
    "    p.set_transform(ax.transAxes)\n",
    "    p.set_clip_on(False)\n",
    "    ax.add_patch(p)\n",
    "    ax.text(left+0.5*width, bottom+0.5*height, axlabelsbot[i], fontsize = 10, transform = ax.transAxes, horizontalalignment = \"center\", verticalalignment = \"center\")\n",
    "    ax.add_patch(mpl.patches.Polygon(patchpoints, edgecolor = \"black\", facecolor = [1, 0, 0, 0], linewidth = 0.6, zorder = 3, transform = ramscrs))\n",
    "    ax.add_patch(mpl.patches.Polygon(patchpointssub, edgecolor = \"black\", facecolor = [1,0,0,0], linewidth = 0.6, zorder = 3, transform = ramscrs))\n",
    "    ax.add_patch(mpl.patches.Polygon(patchpointsne, edgecolor = \"black\", facecolor = [1,0,0,0], linewidth = 0.6, zorder = 3, transform = ramscrs))\n",
    "    ax.add_patch(mpl.patches.Polygon(patchpoints_between, edgecolor = \"black\", facecolor = [1,0,0,0], linewidth = 0.6, zorder = 3, transform = ramscrs))\n",
    "    ax.annotate(\"A\", [-81, 39], horizontalalignment = \"center\", verticalalignment = \"center\", fontsize = 10, color = \"black\", transform = ccrs.PlateCarree())\n",
    "    ax.annotate(\"B\", [-80.4, 41.3], horizontalalignment = \"center\", verticalalignment = \"center\", fontsize = 10, color = \"black\", transform = ccrs.PlateCarree())\n",
    "    ax.annotate(\"C\", [-79.7, 41.6], horizontalalignment = \"center\", verticalalignment = \"center\", fontsize = 10, color = \"black\", transform = ccrs.PlateCarree())\n",
    "    ax.annotate(\"D\", [-78.9, 41.95], horizontalalignment = \"center\", verticalalignment = \"center\", fontsize = 10, color = \"black\", transform = ccrs.PlateCarree())\n",
    "gl = ax13.gridlines(crs = ccrs.PlateCarree(), draw_labels = {\"bottom\": \"x\", \"left\": \"y\"}, x_inline = False, y_inline = False, dms = True)\n",
    "gl.xlocator = mticker.FixedLocator([-82, -80, -78])\n",
    "gl.ylocator = mticker.FixedLocator([38, 39, 40, 41, 42])\n",
    "gl.bottom_labels = True\n",
    "gl.left_labels   = False\n",
    "gl.xlines = False\n",
    "gl.ylines = False\n",
    "gl.top_labels    = False\n",
    "gl.right_labels  = True\n",
    "gl.xlabel_style = {'size': 8, 'color': 'black', 'rotation': 0, \"horizontalalignment\": \"right\"}\n",
    "gl.ylabel_style = {'size': 8, 'color': 'black', 'rotation': 0, \"horizontalalignment\": \"right\"}\n",
    "termp = ax11.pcolormesh(controlgrid[\"x\"], controlgrid[\"y\"], controlgrid[\"Topo\"], cmap = modtopocmap, vmin = 0, vmax = 1000, zorder = 0, transform = ramscrs)\n",
    "\n",
    "#Because of the heavy snow in Region B in CONTROL (leading to dark red in ax21), we need to plot in white there instead of black\n",
    "ax11.set_title(\"CONTROL\")\n",
    "ax12.set_title(\"VARTEMP-CONTROL\", loc = \"right\")\n",
    "ax13.set_title(\"MORESNOW-CONTROL\", loc = \"left\")\n",
    "ax11.pcolormesh(controlgrid[\"x\"][200:750], controlgrid[\"y\"][150:650], controlgrid[\"PatchArea\"][0,150:650,200:750].where(controlgrid[\"PatchArea\"][0,150:650,200:750]>0.01), vmin = 0, vmax = 0.1, cmap = \"Blues\", shading = \"nearest\", zorder = 1, transform = ramscrs)\n",
    "ax12.pcolormesh(controlgrid[\"x\"][200:750], controlgrid[\"y\"][150:650], controlgrid[\"PatchArea\"][0,150:650,200:750].where(controlgrid[\"PatchArea\"][0,150:650,200:750]>0.01), vmin = 0, vmax = 0.1, cmap = \"Blues\", shading = \"nearest\", zorder = 1, transform = ramscrs)\n",
    "ax13.pcolormesh(controlgrid[\"x\"][200:750], controlgrid[\"y\"][150:650], controlgrid[\"PatchArea\"][0,150:650,200:750].where(controlgrid[\"PatchArea\"][0,150:650,200:750]>0.01), vmin = 0, vmax = 0.1, cmap = \"Blues\", shading = \"nearest\", zorder = 1, transform = ramscrs)\n",
    "snowmp = ax11.pcolormesh(controlgrid[\"x\"][200:750], controlgrid[\"y\"][150:650], snowdiff_control[150:650,200:750].where(snowdiff_control[150:650,200:750]>0.1), shading = \"nearest\", cmap = \"twilight\", vmin = 0, vmax = 30, zorder = 2, transform = ramscrs)\n",
    "snwdiffmp = ax12.pcolormesh(controlgrid[\"x\"][200:750], controlgrid[\"y\"][150:650], (snowdiff_vartemp[150:650,200:750]-snowdiff_control[150:650,200:750]), shading = \"nearest\", cmap = snwdiffcmap, vmin = -7.5, vmax = 7.5, zorder = 2, transform = ramscrs)\n",
    "ax13.pcolormesh(controlgrid[\"x\"][200:750], controlgrid[\"y\"][150:650], (snowdiff_moresnow[150:650,200:750]-snowdiff_control[150:650,200:750]), shading = \"nearest\", cmap = snwdiffcmap, vmin = -7.5, vmax = 7.5, zorder = 2, transform = ramscrs)\n",
    "fig.get_layout_engine().set(w_pad = 6/72, h_pad = 3/72, wspace = 0.05, hspace = 0)\n",
    "\n",
    "snowcbar = fig.colorbar(snowmp, ax = [ax11], orientation = \"horizontal\", fraction = 0.1, extend = \"max\", pad = 0.05); snowcbar.set_label(\"Total Snowfall (mm Liq. Eq.)\", fontsize = 12)\n",
    "snwdiffcbar = fig.colorbar(snwdiffmp, ax = [ax12, ax13], orientation = \"horizontal\", fraction = 0.1, extend = \"both\", pad = 0.05, aspect = 40); snwdiffcbar.set_label(\"Difference in Total Snowfall (mm Liq. Eq.)\", fontsize = 12)\n",
    "tercbar = fig.colorbar(termp, ax = [ax11, ax12, ax13], orientation = \"vertical\", location = \"left\", fraction = 0.1, extend = \"max\", pad = 0.02); tercbar.set_label(\"Terrain Height (m)\", fontsize = 12, labelpad = 0.02)\n",
    "for cbari in [snowcbar, snwdiffcbar, tercbar]:\n",
    "    cbari.ax.tick_params(labelsize = 10)\n",
    "fig.savefig(f\"../PaperFigs/SnowTotSensitivity_{endt.strftime('%d%H%M')}z.png\")\n",
    "plt.close();\n",
    "del ax11; del ax12; del ax13\n",
    "del fig; del snowcbar; del tercbar;\n",
    "del snowmp; del termp"
   ]
  },
  {
   "cell_type": "markdown",
   "id": "7baa4599-0f5f-4ba9-8aee-e3b96bb0c304",
   "metadata": {},
   "source": [
    "## Sensitivity of Radiation to Thin Snow Layers"
   ]
  },
  {
   "cell_type": "code",
   "execution_count": null,
   "id": "9f695262-96db-4aa6-ac93-0a5c7bc757ef",
   "metadata": {},
   "outputs": [],
   "source": [
    "snow_albedo = 0.5 #Assume for now that there's no water in the snow\n",
    "thicks = [0.0, 0.0, 0.0, 0.0, 3.79*10**11]\n",
    "for i in range(4, 0):\n",
    "    "
   ]
  }
 ],
 "metadata": {
  "kernelspec": {
   "display_name": "Python 3 (ipykernel)",
   "language": "python",
   "name": "python3"
  },
  "language_info": {
   "codemirror_mode": {
    "name": "ipython",
    "version": 3
   },
   "file_extension": ".py",
   "mimetype": "text/x-python",
   "name": "python",
   "nbconvert_exporter": "python",
   "pygments_lexer": "ipython3",
   "version": "3.10.12"
  }
 },
 "nbformat": 4,
 "nbformat_minor": 5
}
