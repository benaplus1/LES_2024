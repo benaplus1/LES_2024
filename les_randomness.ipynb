{
 "cells": [
  {
   "cell_type": "code",
   "execution_count": null,
   "id": "18caf00c-1f67-44dc-bdda-9369a23a8ac4",
   "metadata": {},
   "outputs": [],
   "source": [
    "import numpy as np\n",
    "import xarray as xr\n",
    "import pandas as pd\n",
    "from datetime import datetime, timedelta\n",
    "import matplotlib.pyplot as plt\n",
    "from matplotlib.patches import Rectangle\n",
    "from matplotlib.style import use as usestyle\n",
    "from glob import glob"
   ]
  },
  {
   "cell_type": "code",
   "execution_count": null,
   "id": "383b1d45-7f6a-4e50-b0dd-ae4b82d63ffb",
   "metadata": {},
   "outputs": [],
   "source": [
    "usestyle(\"paperplots.mplstyle\")"
   ]
  },
  {
   "cell_type": "code",
   "execution_count": null,
   "id": "73f56c73-eef1-4548-a820-5de4be88d308",
   "metadata": {},
   "outputs": [],
   "source": [
    "from matplotlib import font_manager as fm\n",
    "fontdir = \"/home/ascheb/libfonts/*.ttf\"\n",
    "for fpath in glob(fontdir):\n",
    "    print(fpath)\n",
    "    fm.fontManager.addfont(fpath)\n",
    "from matplotlib import rcParams\n",
    "rcParams[\"figure.titlesize\"] = 40\n",
    "rcParams[\"axes.titlesize\"] = 35\n",
    "rcParams[\"axes.labelsize\"] = 30\n",
    "rcParams[\"xtick.labelsize\"] = 27\n",
    "rcParams[\"ytick.labelsize\"] = 27"
   ]
  },
  {
   "cell_type": "code",
   "execution_count": null,
   "id": "409d33f9-db98-4047-a546-c33044189c78",
   "metadata": {},
   "outputs": [],
   "source": [
    "afile_control = xr.open_dataset(\"/moonbow/ascheb/les/2010/hires_control/newprocessdata/mvars-cart-2010-01-02-230000-g1.nc\")"
   ]
  },
  {
   "cell_type": "code",
   "execution_count": null,
   "id": "f1043cc3-dc64-45b4-87da-783330be1924",
   "metadata": {},
   "outputs": [],
   "source": [
    "gprops = {\"ny\": 1098, \"nx\": 998, \"dx\": 1000}\n",
    "xpointsalonglake = np.arange(200, 600, 1)\n",
    "xalonglake = afile_control[\"x\"].isel(x = xpointsalonglake)\n",
    "ypointsalonglake = 480+(xpointsalonglake-200)/2.5\n",
    "yalonglake = ((-np.floor(gprops[\"ny\"]/2)-0.5)+ypointsalonglake)*gprops[\"dx\"]\n",
    "# sclycoords = np.arange(-(np.ceil(ny/2)-1.5)*dx, (np.floor(ny/2)-0.5)*dx, dx)\n",
    "yalonglake = np.interp(yalonglake, afile_control[\"y\"], afile_control[\"y\"])\n",
    "distancealonglake = ((xpointsalonglake-xpointsalonglake[0])**2+(ypointsalonglake-ypointsalonglake[0])**2)**(1/2)\n",
    "xlakeda = xr.DataArray(coords = {\"Distance\": distancealonglake, \"y\": (\"Distance\", yalonglake), \"x\": (\"Distance\", xalonglake.values)}, dims = [\"Distance\"])"
   ]
  },
  {
   "cell_type": "code",
   "execution_count": null,
   "id": "27fdd816-e3a6-44e5-a0bd-45de85666bcb",
   "metadata": {},
   "outputs": [],
   "source": [
    "print(yalonglake[-1]-yalonglake[0])\n",
    "print(xalonglake[-1]-xalonglake[0])"
   ]
  },
  {
   "cell_type": "code",
   "execution_count": null,
   "id": "a09cad0a-8a3c-419a-8dbb-cfcebbd02e05",
   "metadata": {},
   "outputs": [],
   "source": [
    "alonglakedata = afile_control.interp(x = xlakeda[\"x\"], y = xlakeda[\"y\"], method = \"linear\")"
   ]
  },
  {
   "cell_type": "code",
   "execution_count": null,
   "id": "e1e0f33d-13e8-4011-812d-658e103e8efe",
   "metadata": {},
   "outputs": [],
   "source": [
    "print(alonglakedata[\"LatentHeatFreezingTotal\"].longname)"
   ]
  },
  {
   "cell_type": "code",
   "execution_count": null,
   "id": "92513061-2d3c-469e-9aa1-63bfda358a2f",
   "metadata": {},
   "outputs": [],
   "source": [
    "angle = np.arctan((yalonglake[-1]-yalonglake[0])/(xalonglake[-1]-xalonglake[0]));\n",
    "alonglakedata[\"TangentVelocity\"] = alonglakedata[\"u\"]*np.cos(angle)+alonglakedata[\"v\"]*np.sin(angle)\n",
    "alonglakedata[\"NormalVelocity\"] = alonglakedata[\"v\"]*np.cos(angle)-alonglakedata[\"u\"]*np.sin(angle)"
   ]
  },
  {
   "cell_type": "code",
   "execution_count": null,
   "id": "c8e010a8-e08e-42a7-815c-5f7efe311478",
   "metadata": {},
   "outputs": [],
   "source": [
    "plt.figure(figsize = (15, 3), dpi = 300)\n",
    "zbnds = slice(0, 60); xbnds = slice(0,400)\n",
    "plt.axhline(350, color = \"black\", linestyle = \"--\")\n",
    "plt.axhline(500, color = \"blacK\", linestyle = \"--\")\n",
    "plt.pcolormesh(alonglakedata[\"Distance\"].isel(Distance = xbnds), alonglakedata[\"z\"].isel(z=zbnds), np.gradient(alonglakedata[\"TangentVelocity\"].isel(Distance = xbnds, z = zbnds), gprops[\"dx\"], axis = 1), vmin = -5*10**(-3), vmax = 5*10**(-3), cmap = \"BrBG\")"
   ]
  },
  {
   "cell_type": "code",
   "execution_count": null,
   "id": "33d87643-f08e-4ed0-8b7d-17389b95fd1a",
   "metadata": {},
   "outputs": [],
   "source": [
    "plt.figure(figsize = (15, 3), dpi = 300)\n",
    "zbnds = slice(0, 60); xbnds = slice(0,400)\n",
    "# plt.axhline(350, color = \"black\", linestyle = \"--\")\n",
    "# plt.axhline(500, color = \"blacK\", linestyle = \"--\")\n",
    "plt.pcolormesh(alonglakedata[\"Distance\"].isel(Distance = xbnds), alonglakedata[\"z\"].isel(z=zbnds), 3*alonglakedata[\"LatentHeatFreezingTotal\"].isel(Distance = xbnds, z = zbnds), vmin = -15, vmax = 15, cmap = \"bwr\")"
   ]
  },
  {
   "cell_type": "code",
   "execution_count": null,
   "id": "4ca8ceee-b75c-48eb-97a8-434f809e0780",
   "metadata": {},
   "outputs": [],
   "source": [
    "print(alonglakedata[\"LatentHeatFreezingTotal\"].units)"
   ]
  },
  {
   "cell_type": "code",
   "execution_count": null,
   "id": "ddd380a4-b08c-462d-bcf5-3177d727c899",
   "metadata": {},
   "outputs": [],
   "source": [
    "plt.figure(figsize = (15, 3), dpi = 300)\n",
    "zbnds = slice(0, 60); xbnds = slice(0,400)\n",
    "plt.axhline(250, color = \"black\", linestyle = \"--\")\n",
    "plt.axhline(700, color = \"blacK\", linestyle = \"--\")\n",
    "plt.axhline(1000, color = \"black\", linestyle = \"--\")\n",
    "plt.pcolormesh(alonglakedata[\"Distance\"].isel(Distance = xbnds), alonglakedata[\"z\"].isel(z=zbnds), alonglakedata[\"w\"].isel(Distance = xbnds, z = zbnds), vmin = -2, vmax = 2, cmap = \"bwr\")"
   ]
  },
  {
   "cell_type": "code",
   "execution_count": null,
   "id": "41b19026-e733-4517-b8b8-f02c261a5f1f",
   "metadata": {},
   "outputs": [],
   "source": [
    "plt.figure(figsize = (15, 3), dpi = 300)\n",
    "zbnds = slice(0, 60); xbnds = slice(0,400)\n",
    "plt.axhline(250, color = \"black\", linestyle = \"--\")\n",
    "plt.axhline(700, color = \"blacK\", linestyle = \"--\")\n",
    "plt.axhline(1000, color = \"black\", linestyle = \"--\")\n",
    "plt.pcolormesh(alonglakedata[\"Distance\"].isel(Distance = xbnds), alonglakedata[\"z\"].isel(z=zbnds), alonglakedata[\"CondMix\"].isel(Distance = xbnds, z = zbnds), vmin = 1e-4, vmax = 0.5, cmap = \"Blues\", norm = \"log\")"
   ]
  },
  {
   "cell_type": "code",
   "execution_count": null,
   "id": "d290a9bb-9961-4bd8-9f7f-6def0fbfcba4",
   "metadata": {},
   "outputs": [],
   "source": [
    "plt.figure(figsize = (10, 12))\n",
    "windmp = plt.pcolormesh(afile_control[\"x\"], afile_control[\"y\"], (afile_control[\"v\"].isel(z=slice(5,50)).mean(dim = \"z\")**2+afile_control[\"u\"].isel(z=slice(5,50)).mean(dim = \"z\")**2)**(1/2), vmin = 0, vmax = 25, cmap = \"jet\")\n",
    "# plt.scatter(xpointsalonglake, ypointsalonglake, color = \"green\")\n",
    "# plt.scatter(alonglakedata[\"x\"], alonglakedata[\"y\"], color = \"green\")\n",
    "plt.contour(afile_control[\"x\"], afile_control[\"y\"], afile_control[\"Patch\"][1,:,:], levels = [0.999], colors = \"black\", linewidths = 1)\n",
    "plt.colorbar(windmp, orientation = \"horizontal\")"
   ]
  },
  {
   "cell_type": "code",
   "execution_count": null,
   "id": "5f890bab-f6ce-4f5c-9927-647c9bcc6a39",
   "metadata": {},
   "outputs": [],
   "source": [
    "print(alonglakedata[\"Distance\"])"
   ]
  },
  {
   "cell_type": "code",
   "execution_count": null,
   "id": "ed8108ec-c8ba-4acf-8a1e-c582e9eb10f1",
   "metadata": {},
   "outputs": [],
   "source": [
    "plt.figure(figsize = (15, 3), dpi = 300)\n",
    "zbnds = slice(0, 60); xbnds = slice(0,400)\n",
    "plt.pcolormesh(alonglakedata[\"Distance\"].isel(Distance = xbnds), alonglakedata[\"z\"].isel(z=zbnds), alonglakedata[\"TangentVelocity\"].isel(Distance = xbnds, z = zbnds)-alonglakedata[\"TangentVelocity\"].isel(Distance = xbnds, z = zbnds).mean(dim = \"Distance\"), vmin = -5, vmax = 5, cmap = \"bwr\")"
   ]
  },
  {
   "cell_type": "code",
   "execution_count": null,
   "id": "50ca8729-96cf-49e4-bb2f-a410d10c396f",
   "metadata": {},
   "outputs": [],
   "source": [
    "plt.figure(figsize = (9, 9), dpi = 300)\n",
    "plt.plot(np.mean(abs(alonglakedata[\"TangentVelocity\"].isel(z = zbnds)-alonglakedata[\"TangentVelocity\"].isel(z=zbnds).rolling({\"Distance\": 100}).mean()), axis = 1), alonglakedata[\"z\"].isel(z=zbnds))"
   ]
  },
  {
   "cell_type": "code",
   "execution_count": null,
   "id": "e8fdee13-d7d5-43e3-90d5-2fa1e236e520",
   "metadata": {},
   "outputs": [],
   "source": [
    "plt.figure()\n",
    "xbnds = slice(175, 225); zbnds = slice(0, 60, 2)\n",
    "plt.plot(alonglakedata[\"NormalVelocity\"].isel(Distance = xbnds, z = zbnds).mean(dim = \"Distance\"), alonglakedata[\"z\"].isel(z=zbnds))\n",
    "print(alonglakedata[\"NormalVelocity\"].isel(Distance = xbnds, z = 16).mean(dim = \"Distance\"))"
   ]
  },
  {
   "cell_type": "code",
   "execution_count": null,
   "id": "f9a6a2b8-d02b-4f20-9c63-49f8411ef119",
   "metadata": {},
   "outputs": [],
   "source": [
    "plt.figure(figsize = (15, 9), dpi = 300)\n",
    "plt.pcolormesh(alonglakedata[\"Distance\"], alonglakedata[\"z\"].isel(z = slice(0, 60)), alonglakedata[\"w\"].isel(z = slice(0, 60)), vmin = -2, vmax = 2, cmap = \"bwr\")\n",
    "plt.xticks(np.arange(0, 420, 30))"
   ]
  },
  {
   "cell_type": "code",
   "execution_count": null,
   "id": "cd01723e-e792-42e2-a94a-5f4cd212f26a",
   "metadata": {},
   "outputs": [],
   "source": [
    "plt.figure(figsize = (15, 9))\n",
    "xbnds = slice(175, 225); zbnds = slice(0, 60, 2)\n",
    "# plt.pcolormesh(alonglakedata[\"Distance\"], alonglakedata[\"z\"].isel(z = slice(0, 60)), alonglakedata[\"w\"].isel(z = slice(0, 60)), vmin = -2, vmax = 2, cmap = \"bwr\")\n",
    "# plt.pcolormesh(alonglakedata[\"Distance\"].isel(Distance = xbnds), alonglakedata[\"z\"].isel(z = zbnds), alonglakedata[\"VaporMix\"].isel(Distance = xbnds, z = zbnds), vmin = 0, vmax = 3, cmap = \"BrBG\")\n",
    "normwindmp = plt.pcolormesh(alonglakedata[\"Distance\"].isel(Distance = xbnds), alonglakedata[\"z\"].isel(z=zbnds), alonglakedata[\"NormalVelocity\"].isel(Distance = xbnds, z = zbnds), vmin = -20, vmax = 0, cmap = \"jet_r\")\n",
    "plt.quiver(alonglakedata[\"Distance\"].isel(Distance = xbnds), alonglakedata[\"z\"].isel(z = zbnds), alonglakedata[\"NormalVelocity\"].isel(z = zbnds, Distance = xbnds)-alonglakedata[\"NormalVelocity\"].isel(z = zbnds, Distance = xbnds).mean(dim = \"Distance\"), 3*alonglakedata[\"w\"].isel(z = zbnds, Distance = xbnds), scale = 100, width = 0.002)\n",
    "plt.colorbar(normwindmp)"
   ]
  },
  {
   "cell_type": "code",
   "execution_count": null,
   "id": "6a18cb42-11a0-4f45-a127-1ea8802cf59e",
   "metadata": {},
   "outputs": [],
   "source": [
    "plt.figure(figsize = (10, 12))\n",
    "windmp = plt.pcolormesh(afile_control[\"x\"], afile_control[\"y\"], (afile_control[\"v\"].isel(z=50)**2+afile_control[\"u\"].isel(z=50)**2)**(1/2), vmin = 0, vmax = 25, cmap = \"jet\")\n",
    "# plt.scatter(xpointsalonglake, ypointsalonglake, color = \"green\")\n",
    "plt.scatter(alonglakedata[\"x\"], alonglakedata[\"y\"], color = \"green\")\n",
    "plt.contour(afile_control[\"x\"], afile_control[\"y\"], afile_control[\"Patch\"][1,:,:], levels = [0.999], colors = \"black\", linewidths = 1)\n",
    "plt.colorbar(windmp, orientation = \"horizontal\")"
   ]
  },
  {
   "cell_type": "code",
   "execution_count": null,
   "id": "6a00fbac-7c9d-4288-b2bb-c350caf0409e",
   "metadata": {},
   "outputs": [],
   "source": []
  }
 ],
 "metadata": {
  "kernelspec": {
   "display_name": "Python 3 (ipykernel)",
   "language": "python",
   "name": "python3"
  },
  "language_info": {
   "codemirror_mode": {
    "name": "ipython",
    "version": 3
   },
   "file_extension": ".py",
   "mimetype": "text/x-python",
   "name": "python",
   "nbconvert_exporter": "python",
   "pygments_lexer": "ipython3",
   "version": "3.10.13"
  }
 },
 "nbformat": 4,
 "nbformat_minor": 5
}
