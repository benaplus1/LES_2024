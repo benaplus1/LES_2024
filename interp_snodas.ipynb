{
 "cells": [
  {
   "cell_type": "code",
   "execution_count": null,
   "id": "5b02d23a-4ba9-4222-922c-8a3eab84fea3",
   "metadata": {},
   "outputs": [],
   "source": [
    "import rioxarray\n",
    "import rasterio as ri\n",
    "import xarray as xr\n",
    "import numpy as np\n",
    "import matplotlib.pyplot as plt\n",
    "from matplotlib.lines import Line2D\n",
    "from matplotlib.style import use as usestyle\n",
    "from glob import glob\n",
    "import xesmf\n",
    "from matplotlib.colors import BoundaryNorm\n",
    "from matplotlib import colors"
   ]
  },
  {
   "cell_type": "code",
   "execution_count": null,
   "id": "8db310eb-4d2f-4ffb-a065-65bbe0225d20",
   "metadata": {},
   "outputs": [],
   "source": [
    "class MidpointNormalize(colors.Normalize):\n",
    "    def __init__(self, vmin=None, vmax=None, vcenter=None, clip=False):\n",
    "        self.vcenter = vcenter\n",
    "        super().__init__(vmin, vmax, clip)\n",
    "\n",
    "    def __call__(self, value, clip=None):\n",
    "        # I'm ignoring masked values and all kinds of edge cases to make a\n",
    "        # simple example...\n",
    "        # Note also that we must extrapolate beyond vmin/vmax\n",
    "        x, y = [self.vmin, self.vcenter, self.vmax], [0, 0.5, 1.]\n",
    "        return np.ma.masked_array(np.interp(value, x, y,\n",
    "                                            left=-np.inf, right=np.inf))\n",
    "\n",
    "    def inverse(self, value):\n",
    "        y, x = [self.vmin, self.vcenter, self.vmax], [0, 0.5, 1]\n",
    "        return np.interp(value, x, y, left=-np.inf, right=np.inf)"
   ]
  },
  {
   "cell_type": "code",
   "execution_count": null,
   "id": "2617d913-71d3-4733-b3ff-d1dd7f3d77e5",
   "metadata": {},
   "outputs": [],
   "source": [
    "from matplotlib import font_manager as fm\n",
    "fontdir = \"/home/ascheb/libfonts/*.ttf\"\n",
    "for fpath in glob(fontdir):\n",
    "    print(fpath)\n",
    "    fm.fontManager.addfont(fpath)\n",
    "\n",
    "usestyle(\"paperplots.mplstyle\")\n",
    "from matplotlib import rcParams\n",
    "rcParams[\"figure.titlesize\"] = 40\n",
    "rcParams[\"axes.titlesize\"] = 35\n",
    "rcParams[\"axes.labelsize\"] = 30\n",
    "rcParams[\"xtick.labelsize\"] = 27\n",
    "rcParams[\"ytick.labelsize\"] = 27"
   ]
  },
  {
   "cell_type": "code",
   "execution_count": null,
   "id": "80e0369c-d9bc-4a65-8e2a-e9fd0fdd5f2a",
   "metadata": {},
   "outputs": [],
   "source": [
    "def interp_nlcd(nlcdras, **gridprops):\n",
    "    srfda = xr.DataArray(np.ones((ny,nx)), dims = [\"y\", \"x\"], \n",
    "                         coords = {\"y\": np.arange(-np.floor(ny/2)*dx, np.floor(ny/2)*dx, dx), \"x\": np.arange(-np.floor(nx/2)*dx, np.floor(nx/2)*dx, dx)})\n",
    "\n",
    "    crsstring = f\"+proj=stere +lat_0={theta0} +lon_0={phi0} +ellps=sphere +R=6367000\"; print(crsstring)\n",
    "    srfda.rio.set_spatial_dims(x_dim = \"x\", y_dim = \"y\", inplace = True)\n",
    "    srfda.rio.write_crs(crsstring, inplace = True)\n",
    "    srfda.rio.write_coordinate_system(inplace = True)\n",
    "    srftran = srfda.rio.transform(recalc = True)\n",
    "    srfda.rio.write_transform(srftran, inplace = True)\n",
    "    vrtopts = {\n",
    "    \"resampling\": ri.enums.Resampling.bilinear,\n",
    "    \"crs\": ri.crs.CRS.from_user_input(crsstring),\n",
    "    \"transform\": srftran,\n",
    "    \"height\": ny,\n",
    "    \"width\": nx\n",
    "    }\n",
    "    testvrt = WarpedVRT(nlcdras, **vrtopts)\n",
    "    vrtds = rioxarray.open_rasterio(testvrt)\n",
    "    return vrtds"
   ]
  },
  {
   "cell_type": "code",
   "execution_count": null,
   "id": "9907c926-032e-4932-88d8-d9edcf505c9e",
   "metadata": {},
   "outputs": [],
   "source": [
    "# raster = ri.open(\"/moonbow/ascheb/les/SNODAS/zz_ssmv01025SlL01T0024TTNATS2010010105DP001.dat\")\n",
    "# rastest2 = xr.open_dataset(\"/moonbow/ascheb/les/SNODAS/zz_ssmv01025SlL01T0024TTNATS2010010105DP001.dat\", engine = \"rasterio\")\n",
    "# rastest3 = np.fromfile(\"/moonbow/ascheb/les/SNODAS/zz_ssmv01025SlL01T0024TTNATS2010010105DP001.dat\")"
   ]
  },
  {
   "cell_type": "code",
   "execution_count": null,
   "id": "6a44fb7a-4930-4572-9726-075f1d4b7834",
   "metadata": {},
   "outputs": [],
   "source": [
    "jan1snow = xr.open_dataset(\"/moonbow/ascheb/les/SNODAS/01jansnowprecip.nc\") #Band1 is liquid equivalent of snowfall, in mm\n",
    "jan2snow = xr.open_dataset(\"/moonbow/ascheb/les/SNODAS/02jansnowprecip.nc\")\n",
    "jan3snow = xr.open_dataset(\"/moonbow/ascheb/les/SNODAS/03jansnowprecip.nc\")"
   ]
  },
  {
   "cell_type": "code",
   "execution_count": null,
   "id": "367031fd-407b-42cd-a706-17f8e17562e7",
   "metadata": {},
   "outputs": [],
   "source": [
    "afiletest = xr.open_dataset(\"/moonbow/ascheb/les/2010/hires_control/processed_data/mergedvars_2010-01-02-060000.nc\")"
   ]
  },
  {
   "cell_type": "code",
   "execution_count": null,
   "id": "f7dbb5d9-8c2b-489c-aeb0-373e5335d83d",
   "metadata": {},
   "outputs": [],
   "source": [
    "srftempvals = afiletest[\"SrfTemp\"].values\n",
    "srftempds = xr.Dataset(coords = afiletest[\"SrfTemp\"].coords)\n",
    "srftempds = srftempds.rename({\"lat2d\": \"lat\", \"lon2d\": \"lon\"})\n",
    "srftempds = srftempds.drop([\"lon1d\", \"lat1d\"])\n",
    "srftempds[\"SrfTemp\"] = xr.DataArray(srftempvals, coords = srftempds.coords, dims = [\"y\", \"x\"])\n",
    "# srftempds = srftempds.assign_coords({\"lat\": ((\"y\", \"x\"), afiletest[\"lat2d\"].values), \"lon\": ((\"y\", \"x\"), afiletest[\"lon2d\"].values)})"
   ]
  },
  {
   "cell_type": "code",
   "execution_count": null,
   "id": "02d629cf-67bf-4df4-8710-0d260a064bfe",
   "metadata": {},
   "outputs": [],
   "source": [
    "afiletest.close(); del afiletest"
   ]
  },
  {
   "cell_type": "code",
   "execution_count": null,
   "id": "cc2704ca-30a2-4f5c-83ad-3b57badd928d",
   "metadata": {},
   "outputs": [],
   "source": [
    "from time import perf_counter\n",
    "# st = perf_counter()\n",
    "# rgrid = xesmf.Regridder(jan1snow, srftempds, \"bilinear\")\n",
    "# gridweights = rgrid.to_netcdf(\"snodasgridweights.nc\")\n",
    "# del gridweights\n",
    "# et = perf_counter()\n",
    "# print(f\"regridding took {et-st:.2f} seconds!\")\n",
    "st = perf_counter()\n",
    "gridweights = xr.open_dataset(\"snodasgridweights.nc\")\n",
    "rgrid2 = xesmf.Regridder(jan1snow, srftempds, \"bilinear\", weights = gridweights)\n",
    "jan1snowregrid = rgrid2(jan1snow[\"Band1\"]); jan1snowregrid.name = \"Snowfall\"\n",
    "jan2snowregrid = rgrid2(jan2snow[\"Band1\"]); jan2snowregrid.name = \"Snowfall\"\n",
    "jan3snowregrid = rgrid2(jan3snow[\"Band1\"]); jan3snowregrid.name = \"Snowfall\"\n",
    "\n",
    "print(jan1snowregrid)\n",
    "jan1snowregrid.to_netcdf(\"/moonbow/ascheb/les/SNODAS/01jansnowprecip_regrid.nc\")\n",
    "jan2snowregrid.to_netcdf(\"/moonbow/ascheb/les/SNODAS/02jansnowprecip_regrid.nc\")\n",
    "jan3snowregrid.to_netcdf(\"/moonbow/ascheb/les/SNODAS/03jansnowprecip_regrid.nc\")\n",
    "et = perf_counter()\n",
    "print(f\"regridding took {et-st:.2f} seconds!\")"
   ]
  },
  {
   "cell_type": "code",
   "execution_count": null,
   "id": "de1494d8-d072-4e37-8f5d-8c044b4d183b",
   "metadata": {},
   "outputs": [],
   "source": [
    "del jan1snowregrid; del jan2snowregrid; del jan3snowregrid"
   ]
  },
  {
   "cell_type": "code",
   "execution_count": null,
   "id": "0dcdb9be-2240-41b0-acfc-64f604d4e15f",
   "metadata": {},
   "outputs": [],
   "source": [
    "from palettable.lightbartlein.sequential import Blues10_10\n",
    "nohrsccmap = Blues10_10.get_mpl_colormap()\n",
    "snowbounds = [1e-3, 0.1, 0.5, 1, 2, 3, 4, 5]\n",
    "snownorm = BoundaryNorm(snowbounds, ncolors = 256, extend = \"max\")\n",
    "plt.pcolormesh(jan3snowregrid/100, norm = snownorm, cmap = nohrsccmap)"
   ]
  },
  {
   "cell_type": "code",
   "execution_count": null,
   "id": "ea775fa0-e05d-4a29-8fbf-2b6c106afe5e",
   "metadata": {},
   "outputs": [],
   "source": []
  },
  {
   "cell_type": "code",
   "execution_count": null,
   "id": "a4d08f26-3208-45fb-94b9-d38a848189b8",
   "metadata": {},
   "outputs": [],
   "source": [
    "jan1snowregrid = xr.open_dataset(\"/moonbow/ascheb/les/SNODAS/01jansnowprecip_regrid.nc\")\n",
    "jan2snowregrid = xr.open_dataset(\"/moonbow/ascheb/les/SNODAS/02jansnowprecip_regrid.nc\")\n",
    "jan3snowregrid = xr.open_dataset(\"/moonbow/ascheb/les/SNODAS/03jansnowprecip_regrid.nc\")\n"
   ]
  },
  {
   "cell_type": "code",
   "execution_count": null,
   "id": "03ed5df1-ee7d-4559-a5fc-8d5ae2054ff2",
   "metadata": {},
   "outputs": [],
   "source": [
    "print(jan1snow.lat)\n",
    "print(np.argwhere((jan1snow.lat.values>=afile_nolake[\"lat1d\"].min().values)*(jan1snow.lat.values<=afile_nolake[\"lat1d\"].max().values)))\n",
    "print(np.argwhere((jan1snow.lon.values>=afile_nolake[\"lon1d\"].min().values)*(jan1snow.lon.values<=afile_nolake[\"lon1d\"].max().values)))"
   ]
  },
  {
   "cell_type": "code",
   "execution_count": null,
   "id": "e8ee0688-9129-4b09-8d8c-2eba0b1bf0ab",
   "metadata": {},
   "outputs": [],
   "source": [
    "print(jan3snow[\"Band1\"].sel(lat = 43.00, lon = -81.8, method = \"nearest\")/254)"
   ]
  },
  {
   "cell_type": "code",
   "execution_count": null,
   "id": "8e5a8108-24cb-455b-b291-7f7bbbf469a5",
   "metadata": {},
   "outputs": [],
   "source": [
    "plt.pcolormesh((jan3snow[\"Band1\"][1556:2740, 5339:6785]/254).where(jan3snow[\"Band1\"][1556:2740, 5339:6785]/254<0.04).values)"
   ]
  },
  {
   "cell_type": "code",
   "execution_count": null,
   "id": "8a6e7365-2018-4f0b-935f-eada3c817988",
   "metadata": {},
   "outputs": [],
   "source": [
    "# from palettable.lightbartlein.sequential import Blues10_10\n",
    "# nohrsccmap = Blues10_10.get_mpl_colormap()\n",
    "# snowbounds = [0.04, 0.2, 0.39, 0.79, 1.2, 1.6, 2.0, 3.9, 5.9, 7.9, 9.8, 14, 20]\n",
    "# snownorm = BoundaryNorm(snowbounds, ncolors = 256)\n",
    "# plt.figure(figsize = (10, 12))\n",
    "# plt.contour(afile_control[\"lon1d\"], afile_control[\"lat1d\"], afile_control[\"Patch\"][1,:,:], levels = [0.999], colors = \"black\", linewidths = 0.5, zorder = 2)\n",
    "# plt.pcolormesh(jan2snow[\"lon\"][5339:6785], jan2snow[\"lat\"][1556:2740], (jan3snow[\"Band1\"][1556:2740, 5339:6785]/254).where(jan3snow[\"Band1\"][1556:2740, 5339:6785]/254>0.04), cmap = nohrsccmap, norm = snownorm, zorder = 1)\n",
    "# plt.pcolormesh(jan2snow[\"lon\"][5339:6785], jan2snow[\"lat\"][1556:2740], np.ones((1183, 1445)), color = \"lightgrey\", zorder = 0)"
   ]
  },
  {
   "cell_type": "code",
   "execution_count": null,
   "id": "4c3dcc50-6d5e-480a-b2ff-3086e6db956c",
   "metadata": {},
   "outputs": [],
   "source": [
    "print(et-st)"
   ]
  },
  {
   "cell_type": "code",
   "execution_count": null,
   "id": "3282780e-acda-4330-b21d-b892af68f761",
   "metadata": {},
   "outputs": [],
   "source": [
    "ftime = \"03-0500\"\n",
    "# afile_nolake = xr.open_dataset(f\"/moonbow/ascheb/les/2010/hires_nolake/processed_data/mergedvars_2010-01-{ftime}00.nc\")\n",
    "afile_control = xr.open_dataset(f\"/moonbow/ascheb/les/2010/hires_control/processed_data/mergedvars_2010-01-{ftime}00.nc\")\n",
    "# afile_nolake_old = xr.open_dataset(f\"/moonbow/ascheb/les/2010/hires_nolake/processed_data/mergedvars_2010-01-02-060000.nc\")\n",
    "afile_control_old = xr.open_dataset(f\"/moonbow/ascheb/les/2010/hires_control/processed_data/mergedvars_2010-01-02-060000.nc\")\n",
    "snowdiff_control = afile_control[\"SnowPrecipTotal\"]+afile_control[\"AggPrecipTotal\"]-afile_control_old[\"SnowPrecipTotal\"]-afile_control_old[\"AggPrecipTotal\"]\n",
    "# snowdiff_nolake = afile_nolake[\"SnowPrecipTotal\"]+afile_nolake[\"AggPrecipTotal\"]-afile_nolake_old[\"SnowPrecipTotal\"]-afile_nolake_old[\"AggPrecipTotal\"]"
   ]
  },
  {
   "cell_type": "code",
   "execution_count": null,
   "id": "f42dfcd3-357d-4f8b-b520-08dd4fa56723",
   "metadata": {},
   "outputs": [],
   "source": [
    "from palettable.cmocean.sequential import Ice_10\n",
    "snowcmap = Ice_10.get_mpl_colormap()\n",
    "fig, (ax1, ax2) = plt.subplots(1, 2, figsize = (20, 14))\n",
    "fakecontour = Line2D([], [], color = \"black\", linewidth = 1, label = \"Water Bodies\")\n",
    "for ax in fig.get_axes():\n",
    "    ax.contour(afile_control[\"lon1d\"], afile_control[\"lat1d\"], afile_control[\"Patch\"][1,:,:], levels = [0.999], colors = \"black\", linewidths = 1, zorder = 2)\n",
    "    # ax.pcolormesh(jan2snow[\"lon\"][5339:6785], jan2snow[\"lat\"][1556:2740], np.ones((1183, 1445)), color = \"black\", zorder = 0)\n",
    "    ax.pcolormesh(afile_control[\"lon1d\"], afile_control[\"lat1d\"], afile_control[\"Topo\"], norm = MidpointNormalize(vmin = -20, vmax = 1000, vcenter = 0), cmap = \"gist_earth\", zorder = 0)\n",
    "    ax.set_xlabel(\"Longitude (Degrees E)\")\n",
    "    ax.set_ylabel(\"Latitude (Degrees N)\")\n",
    "    ax.set_yticks([41, 42, 43, 44, 45, 46])\n",
    "    ax.set_xticks([-84, -82, -80])\n",
    "    ax.legend(loc = \"lower left\", fontsize = 20, handles = [fakecontour])\n",
    "from palettable.lightbartlein.sequential import Blues10_10\n",
    "nohrsccmap = Blues10_10.get_mpl_colormap()\n",
    "snowbounds = [1e-3, 0.1, 0.5, 1, 2, 3, 4, 5]\n",
    "snownorm = BoundaryNorm(snowbounds, ncolors = 256, extend = \"max\")\n",
    "snowmp = ax1.pcolormesh(afile_control[\"lon1d\"], afile_control[\"lat1d\"], (jan3snowregrid[\"Snowfall\"]/100).where((jan3snowregrid[\"Snowfall\"]/100)>1e-3), cmap = nohrsccmap, norm = snownorm, zorder = 1)\n",
    "#factor of 100 converts to *cm* of liquid equivalent. Raw data is in kg/m^2/10, so need to multiply by 10 to get mm. I'm using cm because that's the NOHRSc scale\n",
    "# ax1.pcolormesh(jan2snow[\"lon\"][5339:6785], jan2snow[\"lat\"][1556:2740], np.ones((1183, 1445)), color = \"lightgrey\", zorder = 0)\n",
    "# ax1.pcolormesh(afile_nolake[\"lon1d\"], afile_nolake[\"lat1d\"], jan1snowregrid, cmap = snowcmap, vmin = 0, vmax = 30)\n",
    "ax2.pcolormesh(afile_control[\"lon1d\"], afile_control[\"lat1d\"], (snowdiff_control/10).where(snowdiff_control/10>1e-3), cmap = nohrsccmap, norm = snownorm, zorder = 1)\n",
    "# ax3.pcolormesh(afile_nolake[\"lon1d\"], afile_nolake[\"lat1d\"], (snowdiff_nolake/10).where(snowdiff_nolake/10>0.1), cmap = nohrsccmap, norm = snownorm, zorder = 1)\n",
    "ax1.set_title(\"SNODAS 24-Hour Snowfall \")\n",
    "ax2.set_title(\"Simulated 24-Hour Snowfall\")\n",
    "fig.suptitle(\"24-Hour Snowfall from 2010-01-02 0500 UTC to 2010-01-03 0500 UTC\")\n",
    "cbar = fig.colorbar(snowmp, ax = [ax1, ax2], orientation = \"horizontal\", fraction = 0.07, label = \"24-Hour Snowfall (cm Liquid Equivalent)\"); cbar.ax.set_xticklabels([0, 0.1, 0.5, 1, 2, 3, 4, 5])\n",
    "fig.savefig(\"PaperFigs/snowverif.png\")"
   ]
  },
  {
   "cell_type": "code",
   "execution_count": null,
   "id": "d0d918be-6bee-41a6-a101-f0d6aed8b158",
   "metadata": {},
   "outputs": [],
   "source": [
    "print(jan3snowregrid[\"__xarray_dataarray_variable__\"])"
   ]
  },
  {
   "cell_type": "code",
   "execution_count": null,
   "id": "ca58c2fc-e85f-4df2-8ed4-3703edaf8747",
   "metadata": {},
   "outputs": [],
   "source": []
  }
 ],
 "metadata": {
  "kernelspec": {
   "display_name": "Python 3 (ipykernel)",
   "language": "python",
   "name": "python3"
  },
  "language_info": {
   "codemirror_mode": {
    "name": "ipython",
    "version": 3
   },
   "file_extension": ".py",
   "mimetype": "text/x-python",
   "name": "python",
   "nbconvert_exporter": "python",
   "pygments_lexer": "ipython3",
   "version": "3.10.13"
  }
 },
 "nbformat": 4,
 "nbformat_minor": 5
}
