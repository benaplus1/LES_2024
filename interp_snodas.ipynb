{
 "cells": [
  {
   "cell_type": "code",
   "execution_count": null,
   "id": "5b02d23a-4ba9-4222-922c-8a3eab84fea3",
   "metadata": {},
   "outputs": [],
   "source": [
    "import xarray as xr\n",
    "import numpy as np\n",
    "from glob import glob\n",
    "import xesmf\n",
    "import os"
   ]
  },
  {
   "cell_type": "code",
   "execution_count": null,
   "id": "88185be9-b88c-4692-b06e-ef82177a3957",
   "metadata": {},
   "outputs": [],
   "source": [
    "snodasdir = input(\"Enter the directory containing the raw SNODAS data. The raw SNODAS data should be in a file named '03jansnowprecip.nc': \").rstrip(\"/ \")\n",
    "if not os.path.exists(snodasdir):\n",
    "    raise Exception(\"SNODAS directory not found!\")\n"
   ]
  },
  {
   "cell_type": "code",
   "execution_count": null,
   "id": "6a44fb7a-4930-4572-9726-075f1d4b7834",
   "metadata": {},
   "outputs": [],
   "source": [
    "jan3snow = xr.open_dataset(f\"{snodasdir}/03jansnowprecip.nc\")\n",
    "#In this file, Band1 is the liquid equivalent of snowfall, in tenths of mm. It's named this way because of the GDAL script that NOHRSC provides to convert their .dat files to .nc files."
   ]
  },
  {
   "cell_type": "code",
   "execution_count": null,
   "id": "b2dec32e-dac7-4d3e-8b61-da65092efde3",
   "metadata": {},
   "outputs": [],
   "source": [
    "print(jan3snow[\"Band1\"])"
   ]
  },
  {
   "cell_type": "code",
   "execution_count": null,
   "id": "367031fd-407b-42cd-a706-17f8e17562e7",
   "metadata": {},
   "outputs": [],
   "source": [
    "gridsmade = input(\"Have you made grid files for the CONTROL and NLH simulations? These are just files which contain information basic information about coordinates, patch areas, and terrain height. If yes, there should be NetCDF files in the directory with the processed data for each simulation with the name 'gridconsts.nc'. Enter 'yes' or 'no': \")\n",
    "if gridsmade.lower().strip() == \"yes\":\n",
    "    gridsmade = True\n",
    "elif gridsmade.lower().strip() == \"no\":\n",
    "    gridsmade = False\n",
    "else:\n",
    "    raise Exception(\"Answer must be either 'yes' or 'no'!\")\n",
    "if gridsmade:\n",
    "    controlgridpath = input(\"Enter the directory containing the gridconsts.nc file for the CONTROL simulation: \").rstrip(\"/ \")\n",
    "    if not os.path.exists(f\"{controlgridpath}/gridconsts.nc\"):\n",
    "        raise Exception(\"Control grid file not found!\")\n",
    "    controlgrid = xr.open_dataset(f\"{controlgridpath}/gridconsts.nc\")\n",
    "else:\n",
    "    controlpath = input(\"Enter the path to the directory containing processed data for the CONTROL simulation: \").rstrip(\"/ \")\n",
    "    if not os.path.exists(f\"{controlpath}/mvars-cart-2010-01-02-180000-g1.nc\"):\n",
    "        raise Exception(\"Post-processed files not found in specified directory!\")\n",
    "    nlhpath = input(\"Enter the path to the directory containing processed data for the NLH simulation: \").rstrip(\"/ \")\n",
    "    if not os.path.exists(f\"{nlhpath}/mvars-cart-2010-01-02-180000-g1.nc\"):\n",
    "        raise Exception(\"Post-processed files not found in specified directory!\")\n",
    "    control_file_init = xr.open_dataset(f\"{controlpath}/mvars-cart-2010-01-02-180000-g1.nc\")\n",
    "    nlh_file_init = xr.open_dataset(f\"{nlhpath}/mvars-cart-2010-01-02-180000-g1.nc\")\n",
    "    controlgrid = control_file_init[[\"PatchArea\", \"Topo\"]]\n",
    "    nlhgrid = nlh_file_init[[\"PatchArea\", \"Topo\"]]\n",
    "    control_file_init.close(); del control_file_init\n",
    "    nlh_file_init.close(); del nlh_file_init\n",
    "    controlgridpath = input(\"Enter the directory where you want to put the gridconsts.nc file for the CONTROL simulation: \").rstrip(\"/ \")\n",
    "    nlhgridpath = input(\"Enter the directory where you want to put the gridconsts.nc file for the NLH simulation: \").rstrip(\"/ \")\n",
    "    controlgrid.to_netcdf(f\"{controlgridpath}/gridconsts.nc\")\n",
    "    nlhgrid.to_netcdf(f\"{nlhgridpath}/gridconsts.nc\")\n",
    "controlgrid = xr.open_dataset(\"/moonbow/ascheb/les/2010/hires_control/gridconsts.nc\")"
   ]
  },
  {
   "cell_type": "code",
   "execution_count": null,
   "id": "cc2704ca-30a2-4f5c-83ad-3b57badd928d",
   "metadata": {},
   "outputs": [],
   "source": [
    "from time import perf_counter\n",
    "st = perf_counter()\n",
    "gridweights = xr.open_dataset(\"snodasgridweights.nc\")\n",
    "rgrid2 = xesmf.Regridder(jan3snow, controlgrid[\"Topo\"], \"bilinear\", weights = gridweights)\n",
    "jan3snowregrid = rgrid2(jan3snow[\"Band1\"]); jan3snowregrid.name = \"Snowfall\"\n",
    "jan3snowregrid.to_netcdf(\"/moonbow/ascheb/les/SNODAS/03jansnowprecip_regrid.nc\")\n",
    "et = perf_counter()\n",
    "print(f\"regridding took {et-st:.2f} seconds!\")"
   ]
  },
  {
   "cell_type": "code",
   "execution_count": null,
   "id": "de1494d8-d072-4e37-8f5d-8c044b4d183b",
   "metadata": {},
   "outputs": [],
   "source": [
    "jan3snowregrid.close()\n",
    "del jan3snowregrid\n",
    "jan3snow.close()\n",
    "del jan3snow"
   ]
  },
  {
   "cell_type": "code",
   "execution_count": null,
   "id": "1951f335-2faa-4730-b103-efd19364a3a6",
   "metadata": {},
   "outputs": [],
   "source": []
  }
 ],
 "metadata": {
  "kernelspec": {
   "display_name": "Python 3 (ipykernel)",
   "language": "python",
   "name": "python3"
  },
  "language_info": {
   "codemirror_mode": {
    "name": "ipython",
    "version": 3
   },
   "file_extension": ".py",
   "mimetype": "text/x-python",
   "name": "python",
   "nbconvert_exporter": "python",
   "pygments_lexer": "ipython3",
   "version": "3.10.12"
  }
 },
 "nbformat": 4,
 "nbformat_minor": 5
}
